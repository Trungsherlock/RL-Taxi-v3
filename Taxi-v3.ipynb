{
 "cells": [
  {
   "cell_type": "code",
   "execution_count": 29,
   "id": "accf636c-860f-4af8-bb88-1e92b5036fb3",
   "metadata": {},
   "outputs": [
    {
     "name": "stdout",
     "output_type": "stream",
     "text": [
      "Requirement already satisfied: gym in c:\\users\\trung\\anaconda3\\envs\\llms\\lib\\site-packages (0.26.2)\n",
      "Requirement already satisfied: pygame in c:\\users\\trung\\anaconda3\\envs\\llms\\lib\\site-packages (2.6.1)\n",
      "Requirement already satisfied: numpy>=1.18.0 in c:\\users\\trung\\anaconda3\\envs\\llms\\lib\\site-packages (from gym) (1.26.4)\n",
      "Requirement already satisfied: cloudpickle>=1.2.0 in c:\\users\\trung\\anaconda3\\envs\\llms\\lib\\site-packages (from gym) (3.1.1)\n",
      "Requirement already satisfied: gym_notices>=0.0.4 in c:\\users\\trung\\anaconda3\\envs\\llms\\lib\\site-packages (from gym) (0.0.8)\n"
     ]
    }
   ],
   "source": [
    "!pip install gym pygame"
   ]
  },
  {
   "cell_type": "code",
   "execution_count": 30,
   "id": "666df160-4102-4ad8-b8e3-f61e1ee01bf5",
   "metadata": {},
   "outputs": [],
   "source": [
    "import random\n",
    "import gym\n",
    "import numpy as np"
   ]
  },
  {
   "cell_type": "code",
   "execution_count": 31,
   "id": "f58efc53-3932-4716-b7db-90f6de088d39",
   "metadata": {},
   "outputs": [],
   "source": [
    "env = gym.make('Taxi-v3')\n",
    "alpha = 0.9\n",
    "gamma = 0.95\n",
    "epsilon = 1.0\n",
    "epsilon_decay = 0.9995\n",
    "min_epsilon = 0.01\n",
    "num_episodes = 10000\n",
    "max_steps = 100\n",
    "\n",
    "q_table = np.zeros((env.observation_space.n, env.action_space.n))"
   ]
  },
  {
   "cell_type": "code",
   "execution_count": 32,
   "id": "00d50ea2-6190-4b77-9621-54b2e283e4e9",
   "metadata": {},
   "outputs": [
    {
     "name": "stdout",
     "output_type": "stream",
     "text": [
      "Episode 0\n",
      "Finished episode 0 with reward 20\n",
      "Episode 1\n",
      "Finished episode 1 with reward 20\n",
      "Episode 2\n",
      "Finished episode 2 with reward 20\n",
      "Episode 3\n",
      "Finished episode 3 with reward 20\n",
      "Episode 4\n",
      "Finished episode 4 with reward 20\n"
     ]
    }
   ],
   "source": [
    "def choose_action(state):\n",
    "    if random.uniform(0, 1) < epsilon:\n",
    "        return env.action_space.sample()\n",
    "    else:\n",
    "        return np.argmax(q_table[state,:])\n",
    "\n",
    "for episode in range(num_episodes):\n",
    "    state, _ = env.reset()\n",
    "    done = False\n",
    "\n",
    "    for step in range(max_steps):\n",
    "        action = choose_action(state)\n",
    "        next_state, reward, done, truncated, info = env.step(action)\n",
    "\n",
    "        old_value = q_table[state, action]\n",
    "        next_max = np.max(q_table[next_state, :])\n",
    "\n",
    "        q_table[state, action] = (1- alpha) * old_value + alpha * (reward + gamma * next_max)\n",
    "\n",
    "        state = next_state\n",
    "\n",
    "        if done or truncated:\n",
    "            break\n",
    "    epsilon = max(min_epsilon, epsilon * epsilon_decay)\n",
    "\n",
    "env = gym.make('Taxi-v3', render_mode='human')\n",
    "\n",
    "for episode in range(5):\n",
    "    state, _ = env.reset()\n",
    "    done = False\n",
    "    print('Episode', episode)\n",
    "    for step in range(max_steps):\n",
    "        env.render()\n",
    "        action = np.argmax(q_table[state, :])\n",
    "        next_state, reward, done, truncated, info = env.step(action) \n",
    "        state = next_state\n",
    "\n",
    "        if done or truncated:\n",
    "            env.render()\n",
    "            print('Finished episode', episode, 'with reward', reward)\n",
    "            break\n",
    "\n",
    "env.close()"
   ]
  }
 ],
 "metadata": {
  "kernelspec": {
   "display_name": "Python 3 (ipykernel)",
   "language": "python",
   "name": "python3"
  },
  "language_info": {
   "codemirror_mode": {
    "name": "ipython",
    "version": 3
   },
   "file_extension": ".py",
   "mimetype": "text/x-python",
   "name": "python",
   "nbconvert_exporter": "python",
   "pygments_lexer": "ipython3",
   "version": "3.11.11"
  }
 },
 "nbformat": 4,
 "nbformat_minor": 5
}
